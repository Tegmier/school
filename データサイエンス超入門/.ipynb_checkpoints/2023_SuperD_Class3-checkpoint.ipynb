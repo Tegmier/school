{
 "cells": [
  {
   "cell_type": "code",
   "execution_count": 1,
   "id": "ae4fb002",
   "metadata": {},
   "outputs": [],
   "source": [
    "import pandas as pd\n",
    "import matplotlib.pyplot as plt\n",
    "import numpy as np\n",
    "import datetime\n",
    "import jaconv\n",
    "import re\n",
    "import pickle as pkl\n",
    "\n",
    "# Change fontype of pyplot\n",
    "import matplotlib.font_manager\n",
    "#print([f.name for f in matplotlib.font_manager.fontManager.ttflist])\n",
    "plt.rcParams['font.family'] = 'MS Gothic'"
   ]
  },
  {
   "cell_type": "markdown",
   "id": "2113deaa",
   "metadata": {},
   "source": [
    "Load Data"
   ]
  },
  {
   "cell_type": "code",
   "execution_count": 2,
   "id": "4cad3359",
   "metadata": {
    "scrolled": true
   },
   "outputs": [],
   "source": [
    "df = pd.read_csv(\"data/SuperD_Class2_tochi_sample_xdm.csv\")\n",
    "# load code data\n",
    "df_code = pd.read_csv(\"data/SuperD_Class2_shicyoukuson_code_utf8.csv\")\n",
    "# create dict\n",
    "code2lng, code2lat = ({} for _ in range(2))\n",
    "for i in range(len(df_code)):\n",
    "    code = str(df_code[\"コード\"].iloc[i])\n",
    "    if (len(code) == 5):\n",
    "        code = code[0:4]\n",
    "    else:\n",
    "        code = code[0:5]\n",
    "    code2lng.update({int(code): df_code[\"経度\"].iloc[i]})\n",
    "    code2lat.update({int(code): df_code[\"緯度\"].iloc[i]})\n",
    "# longitude and latitude\n",
    "df[\"longitude\"] = df[\"市区町村コード\"].map(code2lng)\n",
    "df[\"latitude\"] = df[\"市区町村コード\"].map(code2lat)"
   ]
  },
  {
   "cell_type": "code",
   "execution_count": 3,
   "id": "3dce37b2",
   "metadata": {
    "scrolled": true
   },
   "outputs": [
    {
     "data": {
      "image/png": "[encoded data removed]",
      "text/plain": [
       "<Figure size 640x480 with 1 Axes>"
      ]
     },
     "metadata": {},
     "output_type": "display_data"
    }
   ],
   "source": [
    "#Histogram of price\n",
    "df[\"取引価格（総額）\"].hist(bins = 50)\n",
    "plt.title(\"Histogram of price\")\n",
    "plt.show()"
   ]
  },
  {
   "cell_type": "code",
   "execution_count": 4,
   "id": "7ed0f2cd",
   "metadata": {},
   "outputs": [
    {
     "data": {
      "text/plain": [
       "count    1.000000e+05\n",
       "mean     2.762968e+07\n",
       "std      1.371699e+08\n",
       "min      1.000000e+02\n",
       "25%      4.800000e+06\n",
       "50%      1.400000e+07\n",
       "75%      3.000000e+07\n",
       "max      3.000000e+10\n",
       "Name: 取引価格（総額）, dtype: float64"
      ]
     },
     "execution_count": 4,
     "metadata": {},
     "output_type": "execute_result"
    }
   ],
   "source": [
    "df[\"取引価格（総額）\"].describe()"
   ]
  },
  {
   "cell_type": "code",
   "execution_count": 5,
   "id": "9788ff86",
   "metadata": {},
   "outputs": [],
   "source": [
    "df.sort_values(by = \"取引価格（総額）\", ascending = False, inplace = True)"
   ]
  },
  {
   "cell_type": "code",
   "execution_count": 6,
   "id": "e9632a3d",
   "metadata": {},
   "outputs": [
    {
     "data": {
      "text/html": [
       "<div>\n",
       "<style scoped>\n",
       "    .dataframe tbody tr th:only-of-type {\n",
       "        vertical-align: middle;\n",
       "    }\n",
       "\n",
       "    .dataframe tbody tr th {\n",
       "        vertical-align: top;\n",
       "    }\n",
       "\n",
       "    .dataframe thead th {\n",
       "        text-align: right;\n",
       "    }\n",
       "</style>\n",
       "<table border=\"1\" class=\"dataframe\">\n",
       "  <thead>\n",
       "    <tr style=\"text-align: right;\">\n",
       "      <th></th>\n",
       "      <th>No</th>\n",
       "      <th>種類</th>\n",
       "      <th>地域</th>\n",
       "      <th>市区町村コード</th>\n",
       "      <th>都道府県名</th>\n",
       "      <th>市区町村名</th>\n",
       "      <th>地区名</th>\n",
       "      <th>最寄駅：名称</th>\n",
       "      <th>最寄駅：距離（分）</th>\n",
       "      <th>取引価格（総額）</th>\n",
       "      <th>...</th>\n",
       "      <th>前面道路：種類</th>\n",
       "      <th>前面道路：幅員（ｍ）</th>\n",
       "      <th>都市計画</th>\n",
       "      <th>建ぺい率（％）</th>\n",
       "      <th>容積率（％）</th>\n",
       "      <th>取引時点</th>\n",
       "      <th>改装</th>\n",
       "      <th>取引の事情等</th>\n",
       "      <th>longitude</th>\n",
       "      <th>latitude</th>\n",
       "    </tr>\n",
       "  </thead>\n",
       "  <tbody>\n",
       "    <tr>\n",
       "      <th>91842</th>\n",
       "      <td>6695</td>\n",
       "      <td>宅地(土地と建物)</td>\n",
       "      <td>商業地</td>\n",
       "      <td>13103</td>\n",
       "      <td>東京都</td>\n",
       "      <td>港区</td>\n",
       "      <td>赤坂</td>\n",
       "      <td>乃木坂</td>\n",
       "      <td>1</td>\n",
       "      <td>30000000000</td>\n",
       "      <td>...</td>\n",
       "      <td>都道</td>\n",
       "      <td>13.5</td>\n",
       "      <td>商業地域</td>\n",
       "      <td>80.0</td>\n",
       "      <td>500.0</td>\n",
       "      <td>2018年第１四半期</td>\n",
       "      <td>NaN</td>\n",
       "      <td>NaN</td>\n",
       "      <td>139.751599</td>\n",
       "      <td>35.658068</td>\n",
       "    </tr>\n",
       "    <tr>\n",
       "      <th>73278</th>\n",
       "      <td>88465</td>\n",
       "      <td>宅地(土地)</td>\n",
       "      <td>住宅地</td>\n",
       "      <td>11108</td>\n",
       "      <td>埼玉県</td>\n",
       "      <td>さいたま市南区</td>\n",
       "      <td>沼影</td>\n",
       "      <td>武蔵浦和</td>\n",
       "      <td>2</td>\n",
       "      <td>9000000000</td>\n",
       "      <td>...</td>\n",
       "      <td>市道</td>\n",
       "      <td>9.0</td>\n",
       "      <td>商業地域</td>\n",
       "      <td>80.0</td>\n",
       "      <td>500.0</td>\n",
       "      <td>2008年第３四半期</td>\n",
       "      <td>NaN</td>\n",
       "      <td>NaN</td>\n",
       "      <td>139.645352</td>\n",
       "      <td>35.845253</td>\n",
       "    </tr>\n",
       "    <tr>\n",
       "      <th>89390</th>\n",
       "      <td>41787</td>\n",
       "      <td>宅地(土地と建物)</td>\n",
       "      <td>商業地</td>\n",
       "      <td>27144</td>\n",
       "      <td>大阪府</td>\n",
       "      <td>堺市西区</td>\n",
       "      <td>鳳東町</td>\n",
       "      <td>鳳</td>\n",
       "      <td>7</td>\n",
       "      <td>8100000000</td>\n",
       "      <td>...</td>\n",
       "      <td>府道</td>\n",
       "      <td>22.0</td>\n",
       "      <td>準工業地域</td>\n",
       "      <td>60.0</td>\n",
       "      <td>200.0</td>\n",
       "      <td>2020年第３四半期</td>\n",
       "      <td>NaN</td>\n",
       "      <td>NaN</td>\n",
       "      <td>135.463972</td>\n",
       "      <td>34.534999</td>\n",
       "    </tr>\n",
       "    <tr>\n",
       "      <th>66930</th>\n",
       "      <td>3621</td>\n",
       "      <td>宅地(土地)</td>\n",
       "      <td>住宅地</td>\n",
       "      <td>14101</td>\n",
       "      <td>神奈川県</td>\n",
       "      <td>横浜市鶴見区</td>\n",
       "      <td>矢向</td>\n",
       "      <td>尻手</td>\n",
       "      <td>11</td>\n",
       "      <td>6600000000</td>\n",
       "      <td>...</td>\n",
       "      <td>市道</td>\n",
       "      <td>13.5</td>\n",
       "      <td>準工業地域</td>\n",
       "      <td>60.0</td>\n",
       "      <td>200.0</td>\n",
       "      <td>2019年第１四半期</td>\n",
       "      <td>NaN</td>\n",
       "      <td>NaN</td>\n",
       "      <td>139.682540</td>\n",
       "      <td>35.508404</td>\n",
       "    </tr>\n",
       "    <tr>\n",
       "      <th>43362</th>\n",
       "      <td>381209</td>\n",
       "      <td>宅地(土地)</td>\n",
       "      <td>工業地</td>\n",
       "      <td>13227</td>\n",
       "      <td>東京都</td>\n",
       "      <td>羽村市</td>\n",
       "      <td>神明台</td>\n",
       "      <td>羽村</td>\n",
       "      <td>13</td>\n",
       "      <td>6400000000</td>\n",
       "      <td>...</td>\n",
       "      <td>都道</td>\n",
       "      <td>25.0</td>\n",
       "      <td>工業地域</td>\n",
       "      <td>60.0</td>\n",
       "      <td>200.0</td>\n",
       "      <td>2019年第２四半期</td>\n",
       "      <td>NaN</td>\n",
       "      <td>NaN</td>\n",
       "      <td>139.310944</td>\n",
       "      <td>35.767222</td>\n",
       "    </tr>\n",
       "  </tbody>\n",
       "</table>\n",
       "<p>5 rows × 32 columns</p>\n",
       "</div>"
      ],
      "text/plain": [
       "           No         種類   地域  市区町村コード 都道府県名    市区町村名  地区名 最寄駅：名称 最寄駅：距離（分）  \\\n",
       "91842    6695  宅地(土地と建物)  商業地    13103   東京都       港区   赤坂    乃木坂         1   \n",
       "73278   88465     宅地(土地)  住宅地    11108   埼玉県  さいたま市南区   沼影   武蔵浦和         2   \n",
       "89390   41787  宅地(土地と建物)  商業地    27144   大阪府     堺市西区  鳳東町      鳳         7   \n",
       "66930    3621     宅地(土地)  住宅地    14101  神奈川県   横浜市鶴見区   矢向     尻手        11   \n",
       "43362  381209     宅地(土地)  工業地    13227   東京都      羽村市  神明台     羽村        13   \n",
       "\n",
       "          取引価格（総額）  ...  前面道路：種類 前面道路：幅員（ｍ）   都市計画  建ぺい率（％） 容積率（％）  \\\n",
       "91842  30000000000  ...       都道       13.5   商業地域     80.0  500.0   \n",
       "73278   9000000000  ...       市道        9.0   商業地域     80.0  500.0   \n",
       "89390   8100000000  ...       府道       22.0  準工業地域     60.0  200.0   \n",
       "66930   6600000000  ...       市道       13.5  準工業地域     60.0  200.0   \n",
       "43362   6400000000  ...       都道       25.0   工業地域     60.0  200.0   \n",
       "\n",
       "             取引時点   改装 取引の事情等   longitude   latitude  \n",
       "91842  2018年第１四半期  NaN    NaN  139.751599  35.658068  \n",
       "73278  2008年第３四半期  NaN    NaN  139.645352  35.845253  \n",
       "89390  2020年第３四半期  NaN    NaN  135.463972  34.534999  \n",
       "66930  2019年第１四半期  NaN    NaN  139.682540  35.508404  \n",
       "43362  2019年第２四半期  NaN    NaN  139.310944  35.767222  \n",
       "\n",
       "[5 rows x 32 columns]"
      ]
     },
     "execution_count": 6,
     "metadata": {},
     "output_type": "execute_result"
    }
   ],
   "source": [
    "df.head()"
   ]
  },
  {
   "cell_type": "code",
   "execution_count": 7,
   "id": "57d3ffac",
   "metadata": {
    "scrolled": true
   },
   "outputs": [
    {
     "data": {
      "text/html": [
       "<div>\n",
       "<style scoped>\n",
       "    .dataframe tbody tr th:only-of-type {\n",
       "        vertical-align: middle;\n",
       "    }\n",
       "\n",
       "    .dataframe tbody tr th {\n",
       "        vertical-align: top;\n",
       "    }\n",
       "\n",
       "    .dataframe thead th {\n",
       "        text-align: right;\n",
       "    }\n",
       "</style>\n",
       "<table border=\"1\" class=\"dataframe\">\n",
       "  <thead>\n",
       "    <tr style=\"text-align: right;\">\n",
       "      <th></th>\n",
       "      <th>No</th>\n",
       "      <th>種類</th>\n",
       "      <th>地域</th>\n",
       "      <th>市区町村コード</th>\n",
       "      <th>都道府県名</th>\n",
       "      <th>市区町村名</th>\n",
       "      <th>地区名</th>\n",
       "      <th>最寄駅：名称</th>\n",
       "      <th>最寄駅：距離（分）</th>\n",
       "      <th>取引価格（総額）</th>\n",
       "      <th>...</th>\n",
       "      <th>前面道路：種類</th>\n",
       "      <th>前面道路：幅員（ｍ）</th>\n",
       "      <th>都市計画</th>\n",
       "      <th>建ぺい率（％）</th>\n",
       "      <th>容積率（％）</th>\n",
       "      <th>取引時点</th>\n",
       "      <th>改装</th>\n",
       "      <th>取引の事情等</th>\n",
       "      <th>longitude</th>\n",
       "      <th>latitude</th>\n",
       "    </tr>\n",
       "  </thead>\n",
       "  <tbody>\n",
       "    <tr>\n",
       "      <th>91842</th>\n",
       "      <td>6695</td>\n",
       "      <td>宅地(土地と建物)</td>\n",
       "      <td>商業地</td>\n",
       "      <td>13103</td>\n",
       "      <td>東京都</td>\n",
       "      <td>港区</td>\n",
       "      <td>赤坂</td>\n",
       "      <td>乃木坂</td>\n",
       "      <td>1</td>\n",
       "      <td>30000000000</td>\n",
       "      <td>...</td>\n",
       "      <td>都道</td>\n",
       "      <td>13.5</td>\n",
       "      <td>商業地域</td>\n",
       "      <td>80.0</td>\n",
       "      <td>500.0</td>\n",
       "      <td>2018年第１四半期</td>\n",
       "      <td>NaN</td>\n",
       "      <td>NaN</td>\n",
       "      <td>139.751599</td>\n",
       "      <td>35.658068</td>\n",
       "    </tr>\n",
       "    <tr>\n",
       "      <th>43362</th>\n",
       "      <td>381209</td>\n",
       "      <td>宅地(土地)</td>\n",
       "      <td>工業地</td>\n",
       "      <td>13227</td>\n",
       "      <td>東京都</td>\n",
       "      <td>羽村市</td>\n",
       "      <td>神明台</td>\n",
       "      <td>羽村</td>\n",
       "      <td>13</td>\n",
       "      <td>6400000000</td>\n",
       "      <td>...</td>\n",
       "      <td>都道</td>\n",
       "      <td>25.0</td>\n",
       "      <td>工業地域</td>\n",
       "      <td>60.0</td>\n",
       "      <td>200.0</td>\n",
       "      <td>2019年第２四半期</td>\n",
       "      <td>NaN</td>\n",
       "      <td>NaN</td>\n",
       "      <td>139.310944</td>\n",
       "      <td>35.767222</td>\n",
       "    </tr>\n",
       "    <tr>\n",
       "      <th>61861</th>\n",
       "      <td>9475</td>\n",
       "      <td>宅地(土地と建物)</td>\n",
       "      <td>商業地</td>\n",
       "      <td>13103</td>\n",
       "      <td>東京都</td>\n",
       "      <td>港区</td>\n",
       "      <td>虎ノ門</td>\n",
       "      <td>虎ノ門</td>\n",
       "      <td>2</td>\n",
       "      <td>5600000000</td>\n",
       "      <td>...</td>\n",
       "      <td>区道</td>\n",
       "      <td>11.0</td>\n",
       "      <td>商業地域</td>\n",
       "      <td>80.0</td>\n",
       "      <td>700.0</td>\n",
       "      <td>2022年第１四半期</td>\n",
       "      <td>NaN</td>\n",
       "      <td>NaN</td>\n",
       "      <td>139.751599</td>\n",
       "      <td>35.658068</td>\n",
       "    </tr>\n",
       "    <tr>\n",
       "      <th>84422</th>\n",
       "      <td>1162</td>\n",
       "      <td>宅地(土地と建物)</td>\n",
       "      <td>商業地</td>\n",
       "      <td>13101</td>\n",
       "      <td>東京都</td>\n",
       "      <td>千代田区</td>\n",
       "      <td>麹町</td>\n",
       "      <td>半蔵門</td>\n",
       "      <td>3</td>\n",
       "      <td>5200000000</td>\n",
       "      <td>...</td>\n",
       "      <td>区道</td>\n",
       "      <td>11.0</td>\n",
       "      <td>商業地域</td>\n",
       "      <td>80.0</td>\n",
       "      <td>700.0</td>\n",
       "      <td>2020年第４四半期</td>\n",
       "      <td>NaN</td>\n",
       "      <td>私道を含む取引</td>\n",
       "      <td>139.753595</td>\n",
       "      <td>35.694003</td>\n",
       "    </tr>\n",
       "    <tr>\n",
       "      <th>55633</th>\n",
       "      <td>56717</td>\n",
       "      <td>宅地(土地と建物)</td>\n",
       "      <td>商業地</td>\n",
       "      <td>13102</td>\n",
       "      <td>東京都</td>\n",
       "      <td>中央区</td>\n",
       "      <td>銀座</td>\n",
       "      <td>新富町(東京)</td>\n",
       "      <td>2</td>\n",
       "      <td>5000000000</td>\n",
       "      <td>...</td>\n",
       "      <td>区道</td>\n",
       "      <td>15.0</td>\n",
       "      <td>商業地域</td>\n",
       "      <td>80.0</td>\n",
       "      <td>600.0</td>\n",
       "      <td>2011年第１四半期</td>\n",
       "      <td>NaN</td>\n",
       "      <td>NaN</td>\n",
       "      <td>139.771861</td>\n",
       "      <td>35.670651</td>\n",
       "    </tr>\n",
       "  </tbody>\n",
       "</table>\n",
       "<p>5 rows × 32 columns</p>\n",
       "</div>"
      ],
      "text/plain": [
       "           No         種類   地域  市区町村コード 都道府県名 市区町村名  地区名   最寄駅：名称 最寄駅：距離（分）  \\\n",
       "91842    6695  宅地(土地と建物)  商業地    13103   東京都    港区   赤坂      乃木坂         1   \n",
       "43362  381209     宅地(土地)  工業地    13227   東京都   羽村市  神明台       羽村        13   \n",
       "61861    9475  宅地(土地と建物)  商業地    13103   東京都    港区  虎ノ門      虎ノ門         2   \n",
       "84422    1162  宅地(土地と建物)  商業地    13101   東京都  千代田区   麹町      半蔵門         3   \n",
       "55633   56717  宅地(土地と建物)  商業地    13102   東京都   中央区   銀座  新富町(東京)         2   \n",
       "\n",
       "          取引価格（総額）  ...  前面道路：種類 前面道路：幅員（ｍ）  都市計画  建ぺい率（％） 容積率（％）        取引時点  \\\n",
       "91842  30000000000  ...       都道       13.5  商業地域     80.0  500.0  2018年第１四半期   \n",
       "43362   6400000000  ...       都道       25.0  工業地域     60.0  200.0  2019年第２四半期   \n",
       "61861   5600000000  ...       区道       11.0  商業地域     80.0  700.0  2022年第１四半期   \n",
       "84422   5200000000  ...       区道       11.0  商業地域     80.0  700.0  2020年第４四半期   \n",
       "55633   5000000000  ...       区道       15.0  商業地域     80.0  600.0  2011年第１四半期   \n",
       "\n",
       "        改装   取引の事情等   longitude   latitude  \n",
       "91842  NaN      NaN  139.751599  35.658068  \n",
       "43362  NaN      NaN  139.310944  35.767222  \n",
       "61861  NaN      NaN  139.751599  35.658068  \n",
       "84422  NaN  私道を含む取引  139.753595  35.694003  \n",
       "55633  NaN      NaN  139.771861  35.670651  \n",
       "\n",
       "[5 rows x 32 columns]"
      ]
     },
     "execution_count": 7,
     "metadata": {},
     "output_type": "execute_result"
    }
   ],
   "source": [
    "cond = df[\"都道府県名\"] == \"東京都\"\n",
    "df2 = df.loc[cond]\n",
    "df2.head()"
   ]
  },
  {
   "cell_type": "code",
   "execution_count": 8,
   "id": "11c3d46d",
   "metadata": {},
   "outputs": [],
   "source": [
    "df[\"log_price\"] = np.log(df[\"取引価格（総額）\"])"
   ]
  },
  {
   "cell_type": "code",
   "execution_count": 9,
   "id": "5e82e364",
   "metadata": {
    "scrolled": true
   },
   "outputs": [
    {
     "data": {
      "image/png": "[encoded data removed]",
      "text/plain": [
       "<Figure size 640x480 with 1 Axes>"
      ]
     },
     "metadata": {},
     "output_type": "display_data"
    }
   ],
   "source": [
    "df[\"log_price\"].hist(bins = 50)\n",
    "plt.title(\"Histogram of log price\")\n",
    "plt.show()"
   ]
  },
  {
   "cell_type": "code",
   "execution_count": 10,
   "id": "334be02a",
   "metadata": {},
   "outputs": [
    {
     "data": {
      "text/plain": [
       "count    100000.000000\n",
       "mean         16.087311\n",
       "std           1.694039\n",
       "min           4.605170\n",
       "25%          15.384126\n",
       "50%          16.454568\n",
       "75%          17.216708\n",
       "max          24.124463\n",
       "Name: log_price, dtype: float64"
      ]
     },
     "execution_count": 10,
     "metadata": {},
     "output_type": "execute_result"
    }
   ],
   "source": [
    "df[\"log_price\"].describe()"
   ]
  },
  {
   "cell_type": "markdown",
   "id": "676b74d5",
   "metadata": {},
   "source": [
    "Transaction Date"
   ]
  },
  {
   "cell_type": "code",
   "execution_count": 11,
   "id": "1273a31e",
   "metadata": {},
   "outputs": [
    {
     "data": {
      "text/plain": [
       "取引時点\n",
       "2020年第４四半期    1835\n",
       "2012年第４四半期    1752\n",
       "2021年第４四半期    1732\n",
       "2013年第４四半期    1722\n",
       "2018年第４四半期    1721\n",
       "              ... \n",
       "2006年第４四半期     403\n",
       "2006年第２四半期     400\n",
       "2006年第１四半期     251\n",
       "2005年第３四半期     242\n",
       "2005年第４四半期     229\n",
       "Name: count, Length: 72, dtype: int64"
      ]
     },
     "execution_count": 11,
     "metadata": {},
     "output_type": "execute_result"
    }
   ],
   "source": [
    "df[\"取引時点\"].value_counts()"
   ]
  },
  {
   "cell_type": "code",
   "execution_count": 12,
   "id": "17fee7ad",
   "metadata": {},
   "outputs": [
    {
     "name": "stdout",
     "output_type": "stream",
     "text": [
      "{'３', '４', '２', '１'}\n"
     ]
    }
   ],
   "source": [
    "# Create a dataframe\n",
    "df_time = pd.DataFrame(df[\"取引時点\"].value_counts())\n",
    "# Find how many unique quarters in the data\n",
    "print(set(df_time.index.str[6]))\n",
    "# make a dictionary out of it for further use\n",
    "quarterly_dict = {'１': 1, '２': 4, '３': 7, '４': 10}\n"
   ]
  },
  {
   "cell_type": "code",
   "execution_count": 13,
   "id": "e64e033d",
   "metadata": {},
   "outputs": [
    {
     "data": {
      "text/plain": [
       "{'１', '２', '３', '４'}"
      ]
     },
     "execution_count": 13,
     "metadata": {},
     "output_type": "execute_result"
    }
   ],
   "source": [
    "set(df_time.index.str[6])"
   ]
  },
  {
   "cell_type": "code",
   "execution_count": 14,
   "id": "2dd48130",
   "metadata": {
    "scrolled": true
   },
   "outputs": [
    {
     "data": {
      "text/plain": [
       "{'2020年第４四半期': datetime.datetime(2020, 10, 1, 0, 0),\n",
       " '2012年第４四半期': datetime.datetime(2012, 10, 1, 0, 0),\n",
       " '2021年第４四半期': datetime.datetime(2021, 10, 1, 0, 0),\n",
       " '2013年第４四半期': datetime.datetime(2013, 10, 1, 0, 0),\n",
       " '2018年第４四半期': datetime.datetime(2018, 10, 1, 0, 0),\n",
       " '2014年第４四半期': datetime.datetime(2014, 10, 1, 0, 0),\n",
       " '2020年第３四半期': datetime.datetime(2020, 7, 1, 0, 0),\n",
       " '2021年第３四半期': datetime.datetime(2021, 7, 1, 0, 0),\n",
       " '2014年第１四半期': datetime.datetime(2014, 1, 1, 0, 0),\n",
       " '2021年第２四半期': datetime.datetime(2021, 4, 1, 0, 0),\n",
       " '2015年第４四半期': datetime.datetime(2015, 10, 1, 0, 0),\n",
       " '2021年第１四半期': datetime.datetime(2021, 1, 1, 0, 0),\n",
       " '2016年第２四半期': datetime.datetime(2016, 4, 1, 0, 0),\n",
       " '2013年第３四半期': datetime.datetime(2013, 7, 1, 0, 0),\n",
       " '2015年第２四半期': datetime.datetime(2015, 4, 1, 0, 0),\n",
       " '2016年第４四半期': datetime.datetime(2016, 10, 1, 0, 0),\n",
       " '2017年第４四半期': datetime.datetime(2017, 10, 1, 0, 0),\n",
       " '2017年第３四半期': datetime.datetime(2017, 7, 1, 0, 0),\n",
       " '2010年第４四半期': datetime.datetime(2010, 10, 1, 0, 0),\n",
       " '2016年第１四半期': datetime.datetime(2016, 1, 1, 0, 0),\n",
       " '2013年第２四半期': datetime.datetime(2013, 4, 1, 0, 0),\n",
       " '2014年第３四半期': datetime.datetime(2014, 7, 1, 0, 0),\n",
       " '2013年第１四半期': datetime.datetime(2013, 1, 1, 0, 0),\n",
       " '2020年第１四半期': datetime.datetime(2020, 1, 1, 0, 0),\n",
       " '2012年第３四半期': datetime.datetime(2012, 7, 1, 0, 0),\n",
       " '2019年第４四半期': datetime.datetime(2019, 10, 1, 0, 0),\n",
       " '2015年第３四半期': datetime.datetime(2015, 7, 1, 0, 0),\n",
       " '2011年第４四半期': datetime.datetime(2011, 10, 1, 0, 0),\n",
       " '2015年第１四半期': datetime.datetime(2015, 1, 1, 0, 0),\n",
       " '2017年第１四半期': datetime.datetime(2017, 1, 1, 0, 0),\n",
       " '2019年第１四半期': datetime.datetime(2019, 1, 1, 0, 0),\n",
       " '2018年第１四半期': datetime.datetime(2018, 1, 1, 0, 0),\n",
       " '2016年第３四半期': datetime.datetime(2016, 7, 1, 0, 0),\n",
       " '2019年第２四半期': datetime.datetime(2019, 4, 1, 0, 0),\n",
       " '2022年第２四半期': datetime.datetime(2022, 4, 1, 0, 0),\n",
       " '2009年第４四半期': datetime.datetime(2009, 10, 1, 0, 0),\n",
       " '2022年第１四半期': datetime.datetime(2022, 1, 1, 0, 0),\n",
       " '2010年第３四半期': datetime.datetime(2010, 7, 1, 0, 0),\n",
       " '2012年第１四半期': datetime.datetime(2012, 1, 1, 0, 0),\n",
       " '2018年第２四半期': datetime.datetime(2018, 4, 1, 0, 0),\n",
       " '2012年第２四半期': datetime.datetime(2012, 4, 1, 0, 0),\n",
       " '2010年第１四半期': datetime.datetime(2010, 1, 1, 0, 0),\n",
       " '2019年第３四半期': datetime.datetime(2019, 7, 1, 0, 0),\n",
       " '2014年第２四半期': datetime.datetime(2014, 4, 1, 0, 0),\n",
       " '2018年第３四半期': datetime.datetime(2018, 7, 1, 0, 0),\n",
       " '2008年第４四半期': datetime.datetime(2008, 10, 1, 0, 0),\n",
       " '2022年第４四半期': datetime.datetime(2022, 10, 1, 0, 0),\n",
       " '2011年第１四半期': datetime.datetime(2011, 1, 1, 0, 0),\n",
       " '2011年第３四半期': datetime.datetime(2011, 7, 1, 0, 0),\n",
       " '2017年第２四半期': datetime.datetime(2017, 4, 1, 0, 0),\n",
       " '2007年第４四半期': datetime.datetime(2007, 10, 1, 0, 0),\n",
       " '2022年第３四半期': datetime.datetime(2022, 7, 1, 0, 0),\n",
       " '2008年第３四半期': datetime.datetime(2008, 7, 1, 0, 0),\n",
       " '2010年第２四半期': datetime.datetime(2010, 4, 1, 0, 0),\n",
       " '2008年第２四半期': datetime.datetime(2008, 4, 1, 0, 0),\n",
       " '2020年第２四半期': datetime.datetime(2020, 4, 1, 0, 0),\n",
       " '2011年第２四半期': datetime.datetime(2011, 4, 1, 0, 0),\n",
       " '2008年第１四半期': datetime.datetime(2008, 1, 1, 0, 0),\n",
       " '2009年第１四半期': datetime.datetime(2009, 1, 1, 0, 0),\n",
       " '2009年第３四半期': datetime.datetime(2009, 7, 1, 0, 0),\n",
       " '2007年第２四半期': datetime.datetime(2007, 4, 1, 0, 0),\n",
       " '2007年第３四半期': datetime.datetime(2007, 7, 1, 0, 0),\n",
       " '2009年第２四半期': datetime.datetime(2009, 4, 1, 0, 0),\n",
       " '2023年第１四半期': datetime.datetime(2023, 1, 1, 0, 0),\n",
       " '2023年第２四半期': datetime.datetime(2023, 4, 1, 0, 0),\n",
       " '2007年第１四半期': datetime.datetime(2007, 1, 1, 0, 0),\n",
       " '2006年第３四半期': datetime.datetime(2006, 7, 1, 0, 0),\n",
       " '2006年第４四半期': datetime.datetime(2006, 10, 1, 0, 0),\n",
       " '2006年第２四半期': datetime.datetime(2006, 4, 1, 0, 0),\n",
       " '2006年第１四半期': datetime.datetime(2006, 1, 1, 0, 0),\n",
       " '2005年第３四半期': datetime.datetime(2005, 7, 1, 0, 0),\n",
       " '2005年第４四半期': datetime.datetime(2005, 10, 1, 0, 0)}"
      ]
     },
     "execution_count": 14,
     "metadata": {},
     "output_type": "execute_result"
    }
   ],
   "source": [
    "transaction_date2date = {}\n",
    "for i in range(len(df_time)):\n",
    "    # the original str\n",
    "    transaction_date = df_time.index[i]\n",
    "    # year\n",
    "    year_num = df_time.index[i][0:4]\n",
    "    # quarterly to month\n",
    "    month_num = quarterly_dict[df_time.index[i][6]]\n",
    "    date = datetime.datetime.strptime(str(year_num) + str(month_num), \"%Y%m\")\n",
    "    transaction_date2date.update({transaction_date: date})\n",
    "transaction_date2date"
   ]
  },
  {
   "cell_type": "code",
   "execution_count": 15,
   "id": "445a8033",
   "metadata": {},
   "outputs": [],
   "source": [
    "df[\"date\"] = df[\"取引時点\"].map(transaction_date2date)"
   ]
  },
  {
   "cell_type": "code",
   "execution_count": 16,
   "id": "106262bf",
   "metadata": {},
   "outputs": [
    {
     "data": {
      "text/plain": [
       "date\n",
       "2020-10-01    1835\n",
       "2012-10-01    1752\n",
       "2021-10-01    1732\n",
       "2013-10-01    1722\n",
       "2018-10-01    1721\n",
       "              ... \n",
       "2006-10-01     403\n",
       "2006-04-01     400\n",
       "2006-01-01     251\n",
       "2005-07-01     242\n",
       "2005-10-01     229\n",
       "Name: count, Length: 72, dtype: int64"
      ]
     },
     "execution_count": 16,
     "metadata": {},
     "output_type": "execute_result"
    }
   ],
   "source": [
    "df[\"date\"].value_counts()"
   ]
  },
  {
   "cell_type": "markdown",
   "id": "e38f9eec",
   "metadata": {},
   "source": [
    "Mean log price"
   ]
  },
  {
   "cell_type": "code",
   "execution_count": 23,
   "id": "92270951",
   "metadata": {
    "collapsed": true
   },
   "outputs": [
    {
     "data": {
      "text/html": [
       "<div>\n",
       "<style scoped>\n",
       "    .dataframe tbody tr th:only-of-type {\n",
       "        vertical-align: middle;\n",
       "    }\n",
       "\n",
       "    .dataframe tbody tr th {\n",
       "        vertical-align: top;\n",
       "    }\n",
       "\n",
       "    .dataframe thead th {\n",
       "        text-align: right;\n",
       "    }\n",
       "</style>\n",
       "<table border=\"1\" class=\"dataframe\">\n",
       "  <thead>\n",
       "    <tr style=\"text-align: right;\">\n",
       "      <th></th>\n",
       "      <th>log_price</th>\n",
       "    </tr>\n",
       "    <tr>\n",
       "      <th>date</th>\n",
       "      <th></th>\n",
       "    </tr>\n",
       "  </thead>\n",
       "  <tbody>\n",
       "    <tr>\n",
       "      <th>2005-07-01</th>\n",
       "      <td>16.977016</td>\n",
       "    </tr>\n",
       "    <tr>\n",
       "      <th>2005-10-01</th>\n",
       "      <td>17.005314</td>\n",
       "    </tr>\n",
       "    <tr>\n",
       "      <th>2006-01-01</th>\n",
       "      <td>17.031322</td>\n",
       "    </tr>\n",
       "    <tr>\n",
       "      <th>2006-04-01</th>\n",
       "      <td>16.802119</td>\n",
       "    </tr>\n",
       "    <tr>\n",
       "      <th>2006-07-01</th>\n",
       "      <td>16.717295</td>\n",
       "    </tr>\n",
       "    <tr>\n",
       "      <th>...</th>\n",
       "      <td>...</td>\n",
       "    </tr>\n",
       "    <tr>\n",
       "      <th>2022-04-01</th>\n",
       "      <td>16.105052</td>\n",
       "    </tr>\n",
       "    <tr>\n",
       "      <th>2022-07-01</th>\n",
       "      <td>16.126047</td>\n",
       "    </tr>\n",
       "    <tr>\n",
       "      <th>2022-10-01</th>\n",
       "      <td>16.051738</td>\n",
       "    </tr>\n",
       "    <tr>\n",
       "      <th>2023-01-01</th>\n",
       "      <td>16.003809</td>\n",
       "    </tr>\n",
       "    <tr>\n",
       "      <th>2023-04-01</th>\n",
       "      <td>16.015199</td>\n",
       "    </tr>\n",
       "  </tbody>\n",
       "</table>\n",
       "<p>72 rows × 1 columns</p>\n",
       "</div>"
      ],
      "text/plain": [
       "            log_price\n",
       "date                 \n",
       "2005-07-01  16.977016\n",
       "2005-10-01  17.005314\n",
       "2006-01-01  17.031322\n",
       "2006-04-01  16.802119\n",
       "2006-07-01  16.717295\n",
       "...               ...\n",
       "2022-04-01  16.105052\n",
       "2022-07-01  16.126047\n",
       "2022-10-01  16.051738\n",
       "2023-01-01  16.003809\n",
       "2023-04-01  16.015199\n",
       "\n",
       "[72 rows x 1 columns]"
      ]
     },
     "execution_count": 23,
     "metadata": {},
     "output_type": "execute_result"
    }
   ],
   "source": [
    "# Know the difference: apply and transform\n",
    "#df[\"date_mean_log_price\"] = df.groupby(\"date\")[\"log_price\"].transform(np.mean)\n",
    "df_date = pd.DataFrame(df.groupby(\"date\")[\"log_price\"].apply(np.mean))\n",
    "df_date"
   ]
  },
  {
   "cell_type": "code",
   "execution_count": 24,
   "id": "b886e865",
   "metadata": {},
   "outputs": [
    {
     "data": {
      "image/png": "[encoded data removed]",
      "text/plain": [
       "<Figure size 640x480 with 1 Axes>"
      ]
     },
     "metadata": {},
     "output_type": "display_data"
    }
   ],
   "source": [
    "# Where did this seasonality come from?\n",
    "plt.plot(df_date[\"log_price\"])\n",
    "plt.title(\"mean log price 2005-2023\",size=16)\n",
    "plt.xlabel(\"year\",size=16)\n",
    "plt.ylabel(\"mean log price\",size=16)\n",
    "plt.show()"
   ]
  }
 ],
 "metadata": {
  "kernelspec": {
   "display_name": "Python 3 (ipykernel)",
   "language": "python",
   "name": "python3"
  },
  "language_info": {
   "codemirror_mode": {
    "name": "ipython",
    "version": 3
   },
   "file_extension": ".py",
   "mimetype": "text/x-python",
   "name": "python",
   "nbconvert_exporter": "python",
   "pygments_lexer": "ipython3",
   "version": "3.11.5"
  }
 },
 "nbformat": 4,
 "nbformat_minor": 5
}
